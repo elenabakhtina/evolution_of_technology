{
 "cells": [
  {
   "cell_type": "code",
   "execution_count": 1,
   "metadata": {
    "collapsed": true
   },
   "outputs": [],
   "source": [
    "from sklearn.feature_extraction.text import TfidfVectorizer, CountVectorizer\n",
    "import pandas as pd\n",
    "import numpy as np\n",
    "import os\n",
    "import re\n",
    "import csv"
   ]
  },
  {
   "cell_type": "code",
   "execution_count": 2,
   "metadata": {
    "collapsed": false
   },
   "outputs": [],
   "source": [
    "# The file \"Clusters.csv\" is a result of applying LDA and NMF to the origial articles. \n",
    "# Each line contains year, method (LDA or NMF), number of cluster, and features (10 words that describe the cluster)\n",
    "\n",
    "df = pd.read_csv(\"Clusters/Clusters.csv\")\n",
    "\n",
    "df1 = df.groupby(\"Year\")['Features'].apply(lambda x: ' '.join(x)).reset_index()\n",
    "documents = df1.Features\n",
    "years = df1.Year"
   ]
  },
  {
   "cell_type": "code",
   "execution_count": 3,
   "metadata": {
    "collapsed": false
   },
   "outputs": [
    {
     "data": {
      "text/html": [
       "<div>\n",
       "<table border=\"1\" class=\"dataframe\">\n",
       "  <thead>\n",
       "    <tr style=\"text-align: right;\">\n",
       "      <th></th>\n",
       "      <th>Year</th>\n",
       "      <th>Features</th>\n",
       "    </tr>\n",
       "  </thead>\n",
       "  <tbody>\n",
       "    <tr>\n",
       "      <th>0</th>\n",
       "      <td>2006</td>\n",
       "      <td>google site users search web video service lik...</td>\n",
       "    </tr>\n",
       "    <tr>\n",
       "      <th>1</th>\n",
       "      <td>2007</td>\n",
       "      <td>like ll video new don game time know music goo...</td>\n",
       "    </tr>\n",
       "    <tr>\n",
       "      <th>2</th>\n",
       "      <td>2008</td>\n",
       "      <td>game like ll video games don time new know goo...</td>\n",
       "    </tr>\n",
       "    <tr>\n",
       "      <th>3</th>\n",
       "      <td>2009</td>\n",
       "      <td>like video ll don time know new good people re...</td>\n",
       "    </tr>\n",
       "    <tr>\n",
       "      <th>4</th>\n",
       "      <td>2010</td>\n",
       "      <td>company million funding round capital raised c...</td>\n",
       "    </tr>\n",
       "    <tr>\n",
       "      <th>5</th>\n",
       "      <td>2011</td>\n",
       "      <td>company million companies social funding start...</td>\n",
       "    </tr>\n",
       "    <tr>\n",
       "      <th>6</th>\n",
       "      <td>2012</td>\n",
       "      <td>company million startup companies data new fun...</td>\n",
       "    </tr>\n",
       "    <tr>\n",
       "      <th>7</th>\n",
       "      <td>2013</td>\n",
       "      <td>company million data companies said funding st...</td>\n",
       "    </tr>\n",
       "    <tr>\n",
       "      <th>8</th>\n",
       "      <td>2014</td>\n",
       "      <td>company million data companies funding round s...</td>\n",
       "    </tr>\n",
       "    <tr>\n",
       "      <th>9</th>\n",
       "      <td>2015</td>\n",
       "      <td>company million companies data said startup bu...</td>\n",
       "    </tr>\n",
       "    <tr>\n",
       "      <th>10</th>\n",
       "      <td>2016</td>\n",
       "      <td>company million companies said data startup bu...</td>\n",
       "    </tr>\n",
       "    <tr>\n",
       "      <th>11</th>\n",
       "      <td>2017</td>\n",
       "      <td>company million companies said data startup ye...</td>\n",
       "    </tr>\n",
       "  </tbody>\n",
       "</table>\n",
       "</div>"
      ],
      "text/plain": [
       "    Year                                           Features\n",
       "0   2006  google site users search web video service lik...\n",
       "1   2007  like ll video new don game time know music goo...\n",
       "2   2008  game like ll video games don time new know goo...\n",
       "3   2009  like video ll don time know new good people re...\n",
       "4   2010  company million funding round capital raised c...\n",
       "5   2011  company million companies social funding start...\n",
       "6   2012  company million startup companies data new fun...\n",
       "7   2013  company million data companies said funding st...\n",
       "8   2014  company million data companies funding round s...\n",
       "9   2015  company million companies data said startup bu...\n",
       "10  2016  company million companies said data startup bu...\n",
       "11  2017  company million companies said data startup ye..."
      ]
     },
     "execution_count": 3,
     "metadata": {},
     "output_type": "execute_result"
    }
   ],
   "source": [
    "df1"
   ]
  },
  {
   "cell_type": "code",
   "execution_count": 4,
   "metadata": {
    "collapsed": false
   },
   "outputs": [
    {
     "name": "stdout",
     "output_type": "stream",
     "text": [
      "stopwords 170\n",
      "companies' names 38\n"
     ]
    }
   ],
   "source": [
    "stopwords = ['account','autonomous','announced','ar','available','based','billion','board','build','business']\n",
    "stopwords += ['buy','buzz','calif','calls','capital','case','cell','ceo','check','china','click','companies']\n",
    "stopwords += ['comments','company','computer','conference','connected','contest','controller','couple']\n",
    "stopwords += ['credit','daily','david','deal','deals','dev','disrupt','don','drm','drug','drugs','ds','ea','email']\n",
    "stopwords += ['enterprise','event','experience','experiences','founder','files','follow','francisco','free']\n",
    "stopwords += ['funding','gamesbeat','going','got','government','growth','halo','http','inch','industry']\n",
    "stopwords += ['investors','ipo','japan','jobs','john','know','launch','life','like','links','list','little','ll']\n",
    "stopwords += ['make','lot','market','mercury','million','money','mr','need','new','news','offer','office','oil']\n",
    "stopwords += ['operating','partners','patent','patents','pay','percent','people','president','post','posted']\n",
    "stopwords += ['power','price','privacy','product','project','psp','public','quarter','raised','really']\n",
    "stopwords += ['release','results','revenue','right','round','said','sales','san','says','seattle','service']\n",
    "stopwords += ['services','silicon','site','sites','smart','software','steve','stock','store','street','students']\n",
    "stopwords += ['super','team','tech','things','think','time','tips','title','today','trump','uk','update']\n",
    "stopwords += ['user','users','valley','vehicle','vehicles','venture','ventures','version','want','way','work']\n",
    "stopwords += ['world','www','year','years','york','zuckerberg','developer','developers']\n",
    "stopwords += ['drive','driver','driving','drivers','good','technology','startup','startups']\n",
    "\n",
    "companies = ['amazon','apple','digg','facebook','friendfeed','foursquare','google','groupon','hp','htc','myspace']\n",
    "companies += ['instagram','intel','microsoft','netflix','nexus','nintendo','nokia','nsa','oculus','palm','samsung']\n",
    "companies += ['skype','slack','snapchat','sony','spotify','sprint','techcrunch']\n",
    "companies += ['tesla','twitter','uber','venturebeat','verizon','vista','yahoo','youtube','zynga','zune']\n",
    "\n",
    "print('stopwords',len(stopwords))\n",
    "print(\"companies' names\", len(companies))"
   ]
  },
  {
   "cell_type": "code",
   "execution_count": 18,
   "metadata": {
    "collapsed": true
   },
   "outputs": [],
   "source": [
    "def lemmatization(word):\n",
    "    if (word == 'ad') | (word == 'ads'):\n",
    "        word = 'advertising'\n",
    "    elif (word == 'app') | (word == 'apps') | (word == 'applications'):\n",
    "        word = 'application'\n",
    "    elif word == 'bots':\n",
    "        word = 'bot'\n",
    "    elif word == \"cars\":\n",
    "        word = 'car'\n",
    "    elif word == 'devices':\n",
    "        word = 'device'\n",
    "    elif  word == 'intelligence':\n",
    "        word = 'ai'\n",
    "    elif (word == 'gamers') | (word == 'gaming') | (word == 'games'):\n",
    "        word = 'game'\n",
    "    elif word == 'phones':\n",
    "        word = 'phone'\n",
    "    elif (word == 'machine') | (word == 'learning'):\n",
    "        word = 'ml'\n",
    "    elif (word == 'played') | (word == 'playing'):\n",
    "        word = 'play'\n",
    "    elif (word == 'players'):\n",
    "        word = 'player'\n",
    "    elif word == 'videos':\n",
    "        word = 'video'\n",
    "    elif (word == 'virtual') | (word =='reality'):\n",
    "        word = 'vr'\n",
    "\n",
    "    return word"
   ]
  },
  {
   "cell_type": "code",
   "execution_count": 6,
   "metadata": {
    "collapsed": true
   },
   "outputs": [],
   "source": [
    "# To build vizualization for both technology names and companies' names\n",
    "\n",
    "def removeStopwords(wordlist):\n",
    "    return [w for w in wordlist if w not in stopwords]"
   ]
  },
  {
   "cell_type": "code",
   "execution_count": 7,
   "metadata": {
    "collapsed": true
   },
   "outputs": [],
   "source": [
    "# To build vizualization for only technology names\n",
    "\n",
    "def removeStopwordsANDCompanies(wordlist):\n",
    "    SWandCo = stopwords + companies\n",
    "    return [w for w in wordlist if w not in SWandCo]"
   ]
  },
  {
   "cell_type": "code",
   "execution_count": 8,
   "metadata": {
    "collapsed": true
   },
   "outputs": [],
   "source": [
    "# To build vizualization for only companies' names\n",
    "\n",
    "def Companies(wordlist):\n",
    "    return [w for w in wordlist if w in companies]"
   ]
  },
  {
   "cell_type": "code",
   "execution_count": 9,
   "metadata": {
    "collapsed": true
   },
   "outputs": [],
   "source": [
    "# Calculating the total number of words in df1 to normalize word count across all years\n",
    "\n",
    "def total_num_words(opt):\n",
    "    \n",
    "    unique_words_total = []\n",
    "\n",
    "    for row in range(len(df1)):\n",
    "\n",
    "        year = df1.iloc[row][0]\n",
    "\n",
    "        wordlist = df1.iloc[row][1].split()\n",
    "\n",
    "        if opt == 1:\n",
    "            wordlist = removeStopwords(wordlist)\n",
    "        elif opt == 2:\n",
    "            wordlist = removeStopwordsANDCompanies(wordlist)\n",
    "        elif opt == 3:\n",
    "            wordlist = Companies(wordlist)\n",
    "        \n",
    "        unique_words_total.append(wordlist) \n",
    "    \n",
    "    unique_words_total = sum(unique_words_total,[])\n",
    "    num_words_total = len(unique_words_total)\n",
    "    unique_words_total = list(set(unique_words_total))\n",
    "    num_unique_words_total = len(list(set(unique_words_total)))\n",
    "    print(\"Total number of unique words (counted 1 time) in all clusters\",num_unique_words_total)\n",
    "    print(\"Total number of unique words (counted as many times as they are used) in all clusters\",num_words_total)\n",
    "    print(\"Unique words 2\",unique_words_total)\n",
    "    return num_words_total, sorted(unique_words_total)"
   ]
  },
  {
   "cell_type": "code",
   "execution_count": 19,
   "metadata": {
    "collapsed": false
   },
   "outputs": [],
   "source": [
    "# This function generates strings to be copied into TechInnovationsD3.html file to build visualization\n",
    "# The foramt is  { \"Tech\":\"phone\",\"Date\":\"2005\",\"Value\":1000 }\n",
    "\n",
    "def data_for_D3(opt, num_words_total, unique_words_total):\n",
    "    df_D3_bubble = pd.DataFrame(columns = ('Year','D3_data'))\n",
    "    df_D3_bubble_ = pd.DataFrame(columns = ('Year','D3_data'))\n",
    "    \n",
    "    fieldnames = [['date']]\n",
    "    fieldnames.append(unique_words_total)\n",
    "    fieldnames = sum(fieldnames,[])\n",
    "    df_D3_line = pd.DataFrame(columns = fieldnames)\n",
    "    \n",
    "    df_D3_bubble1 = pd.DataFrame(columns = ('id','value'))\n",
    "\n",
    "    for row in range(len(df1)):\n",
    "\n",
    "        year = df1.iloc[row][0]\n",
    "        print(\"--- Year\",year) \n",
    "        \n",
    "        df_D3_bubble1.append({'id':year,'value':\"\"}, ignore_index=True)\n",
    "    \n",
    "        wordlist = df1.iloc[row][1].split()\n",
    "        \n",
    "        if opt == 1:\n",
    "            wordlist = removeStopwords(wordlist)         \n",
    "        elif opt == 2:\n",
    "            wordlist = removeStopwordsANDCompanies(wordlist)\n",
    "        elif opt == 3:\n",
    "            wordlist = Companies(wordlist)\n",
    "        \n",
    "        wordfreq = []\n",
    "        for w in wordlist:\n",
    "            wordfreq.append(wordlist.count(w))\n",
    "\n",
    "        l = sorted(list(zip(wordlist, wordfreq)), key=lambda x: x[1], reverse = True)\n",
    "        ll = list(set(l))\n",
    "        lll = sorted(ll, key=lambda x: x[1], reverse=True)\n",
    "\n",
    "        \"\"\"\n",
    "        I need the following format to insert into TechInnovationsD3.html file \n",
    "        { \"Tech\":\"phone\",\"Date\":\"2005\",\"Value\":1000 },\n",
    "        \n",
    "        \"\"\"    \n",
    "    \n",
    "        top_words = 30\n",
    "        for i in lll[:top_words]:\n",
    "            normalized_word_count = i[1]/num_words_total\n",
    "            D3_word = lemmatization(i[0])\n",
    "            lll_D3 = '{ \"Tech\":' + '\"' + D3_word + '\"' + ',\"Date\":' + '\"' + str(year) + '\"' + ',\"Value\":'+ str(normalized_word_count) + ' },'\n",
    "            # multiplying 'normalized_word_count' by 10,000 for the value to be seen in visualization\n",
    "            lll_D3_ = '{ \"Tech\":' + '\"' + D3_word + '\"' + ',\"Date\":' + '\"' + str(year) + '\"' + ',\"Value\":'+ str(normalized_word_count*10000) + ' },'\n",
    "            df_D3_bubble = df_D3_bubble.append({'Year':year,'D3_data':lll_D3}, ignore_index=True)\n",
    "            df_D3_bubble_ = df_D3_bubble_.append({'Year':year,'D3_data':lll_D3_}, ignore_index=True)\n",
    "            \n",
    "            df_D3_line_date = str(year)+'0101'\n",
    "            df_D3_line = df_D3_line.append({'date':df_D3_line_date, D3_word:i[1]}, ignore_index=True)\n",
    "            \n",
    "            id_D3 = str(year) + \".\" + D3_word\n",
    "            df_D3_bubble1 = df_D3_bubble1.append({'id':id_D3,'value':i[1]}, ignore_index=True)\n",
    "               \n",
    "    df_D3_line_noNA = df_D3_line.fillna(0)\n",
    "    print(\"df_D3_line_noNA\",df_D3_line_noNA.shape)\n",
    "    \n",
    "    df_D3_bubble1 = df_D3_bubble1.groupby('id')['value'].sum().reset_index()\n",
    "    \n",
    "    df_D3_bubble.to_csv(\"Viz/TechInnovationsD3_opt\"+str(opt)+\".csv\")\n",
    "    df_D3_bubble_.to_csv(\"Viz/TechInnovationsD3_opt\"+str(opt)+\"_.csv\")\n",
    "    df_D3_line_noNA.to_csv(\"Viz/TechInnovationsD3_line_opt\"+str(opt)+\".csv\", index = False)\n",
    "    df_D3_bubble1.to_csv(\"Viz/TechInnovationsD3_bub1_opt\"+str(opt)+\".csv\", index = False)"
   ]
  },
  {
   "cell_type": "code",
   "execution_count": 38,
   "metadata": {
    "collapsed": false
   },
   "outputs": [
    {
     "name": "stdout",
     "output_type": "stream",
     "text": [
      "--- Year 2006 lenght of the word set 74\n",
      "--- Year 2007 lenght of the word set 81\n",
      "--- Year 2008 lenght of the word set 80\n",
      "--- Year 2009 lenght of the word set 80\n",
      "--- Year 2010 lenght of the word set 78\n",
      "--- Year 2011 lenght of the word set 66\n",
      "--- Year 2012 lenght of the word set 70\n",
      "--- Year 2013 lenght of the word set 71\n",
      "--- Year 2014 lenght of the word set 66\n",
      "--- Year 2015 lenght of the word set 65\n",
      "--- Year 2016 lenght of the word set 82\n",
      "--- Year 2017 lenght of the word set 78\n",
      "Total number of words (unique features) in all clusters 891\n",
      "--- Year 2006\n",
      "--- Year 2007\n",
      "--- Year 2008\n",
      "--- Year 2009\n",
      "--- Year 2010\n",
      "--- Year 2011\n",
      "--- Year 2012\n",
      "--- Year 2013\n",
      "--- Year 2014\n",
      "--- Year 2015\n",
      "--- Year 2016\n",
      "--- Year 2017\n"
     ]
    }
   ],
   "source": [
    "# Option 1: use all words that are present in clusters from Clusters.csv \n",
    "# including names of both technologies and companies\n",
    "\n",
    "num_words_total = total_num_words(1)\n",
    "data_for_D3(1,num_words_total)"
   ]
  },
  {
   "cell_type": "code",
   "execution_count": 20,
   "metadata": {
    "collapsed": false
   },
   "outputs": [
    {
     "name": "stdout",
     "output_type": "stream",
     "text": [
      "Total number of unique words (counted 1 time) in all clusters 176\n",
      "Total number of unique words (counted as many times as they are used) in all clusters 4475\n",
      "Unique words 2 ['playing', 'handsets', 'windows', 'electric', 'ray', 'iphone', 'ad', 'movie', 'gaming', 'social', 'photo', 'sound', 'story', 'web', 'games', 'engine', 'device', 'nano', 'xbox', 'health', 'bot', 'human', 'content', 'learning', 'blu', 'alexa', 'ai', 'self', 'blog', 'playstation', 'os', 'rift', 'flash', 'sharing', 'chatbots', 'reader', 'messages', 'vr', 'use', 'tv', 'storage', 'chip', 'information', 'marketing', 'mac', 'touch', 'networks', 'music', 'glass', 'handset', 'android', 'tweet', 'chatbot', 'wireless', 'open', 'messenger', 'artificial', 'image', 'song', 'apps', 'crunchgear', 'gmail', 'home', 'phones', 'space', 'chat', 'cars', 'internet', 'tablets', 'applications', 'gamers', 'aws', 'ads', 'feature', 'download', 'fi', 'bots', 'digg', 'chrome', 'energy', 'app', 'videos', 'card', 'grid', 'streaming', 'page', 'screen', 'surface', 'browser', 'solar', 'bloggers', 'customers', 'chips', 'network', 'mobile', 'songs', 'watch', 'ios', 'smartphone', 'assistant', 'platform', 'swf', 'itunes', 'stories', 'search', 'messaging', 'dvd', 'vive', 'customer', 'usb', 'readers', 'augmented', 'biotech', 'tablet', 'features', 'video', 'share', 'intelligence', 'movies', 'message', 'camera', 'pc', 'reality', 'city', 'location', 'enturebeat', 'ipod', 'data', 'maps', 'cloud', 'blogs', 'switch', 'rss', 'pokémon', 'phone', 'application', 'advertising', 'access', 'galaxy', 'play', 'marketplace', 'desktop', 'virtual', 'game', 'mini', 'players', 'com', 'live', 'security', 'online', 'played', 'analytics', 'feed', 'hd', 'bluetooth', 'hardware', 'player', 'networking', 'tweets', 'audio', 'console', 'friends', 'machine', 'ipad', 'car', 'media', 'digital', 'headset', 'bing', 'bitcoin', 'cingular', 'radio', 'wii', 'medical', 'development', 'devices']\n",
      "--- Year 2006\n",
      "--- Year 2007\n",
      "--- Year 2008\n",
      "--- Year 2009\n",
      "--- Year 2010\n",
      "--- Year 2011\n",
      "--- Year 2012\n",
      "--- Year 2013\n",
      "--- Year 2014\n",
      "--- Year 2015\n",
      "--- Year 2016\n",
      "--- Year 2017\n",
      "df_D3_line_noNA (360, 178)\n"
     ]
    }
   ],
   "source": [
    "# Option 2: remove stopwords and companies' names \n",
    "\n",
    "num_words_total,unique_words_total = total_num_words(2)\n",
    "data_for_D3(2,num_words_total,unique_words_total)"
   ]
  },
  {
   "cell_type": "code",
   "execution_count": 178,
   "metadata": {
    "collapsed": false
   },
   "outputs": [
    {
     "name": "stdout",
     "output_type": "stream",
     "text": [
      "Total number of unique words (counted 1 time) in all clusters 38\n",
      "Total number of unique words (counted as many times as they are used) in all clusters 1231\n",
      "Unique words 2 ['yahoo', 'zune', 'venturebeat', 'sprint', 'techcrunch', 'vista', 'intel', 'samsung', 'nintendo', 'google', 'groupon', 'nsa', 'microsoft', 'friendfeed', 'hp', 'apple', 'facebook', 'myspace', 'snapchat', 'youtube', 'slack', 'oculus', 'tesla', 'zynga', 'spotify', 'foursquare', 'instagram', 'palm', 'netflix', 'nexus', 'htc', 'amazon', 'twitter', 'skype', 'verizon', 'uber', 'sony', 'nokia']\n",
      "--- Year 2006\n",
      "--- Year 2007\n",
      "--- Year 2008\n",
      "--- Year 2009\n",
      "--- Year 2010\n",
      "--- Year 2011\n",
      "--- Year 2012\n",
      "--- Year 2013\n",
      "--- Year 2014\n",
      "--- Year 2015\n",
      "--- Year 2016\n",
      "--- Year 2017\n",
      "df_D3_line_noNA (163, 39)\n"
     ]
    }
   ],
   "source": [
    "# Option 3: keep only compnaies' names to build vosualization for compnaies evolution \n",
    "\n",
    "num_words_total,unique_words_total = total_num_words(3)\n",
    "data_for_D3(3,num_words_total,unique_words_total)"
   ]
  },
  {
   "cell_type": "code",
   "execution_count": 125,
   "metadata": {
    "collapsed": true
   },
   "outputs": [],
   "source": [
    "import csv\n",
    "\n",
    "with open('names.csv', 'w') as csvfile:\n",
    "    words = ['aa','bb','cc']\n",
    "    year = 2006\n",
    "    fieldnames = [['year']]\n",
    "    fieldnames.append(words)\n",
    "    fieldnames = sum(fieldnames,[])\n",
    "    writer = csv.DictWriter(csvfile, fieldnames=fieldnames)\n",
    "    val = 0\n",
    "    writer.writeheader()\n",
    "    for i in words:\n",
    "        writer.writerow({'year': year , i: val})\n",
    "        val += 1"
   ]
  },
  {
   "cell_type": "code",
   "execution_count": 199,
   "metadata": {
    "collapsed": false
   },
   "outputs": [],
   "source": [
    "df_ = pd.DataFrame([['c',1,1],['c',2,2],['cc',4,5]],columns = ['aa','a','b'])"
   ]
  },
  {
   "cell_type": "code",
   "execution_count": 200,
   "metadata": {
    "collapsed": false
   },
   "outputs": [
    {
     "data": {
      "text/html": [
       "<div>\n",
       "<table border=\"1\" class=\"dataframe\">\n",
       "  <thead>\n",
       "    <tr style=\"text-align: right;\">\n",
       "      <th></th>\n",
       "      <th>aa</th>\n",
       "      <th>a</th>\n",
       "      <th>b</th>\n",
       "    </tr>\n",
       "  </thead>\n",
       "  <tbody>\n",
       "    <tr>\n",
       "      <th>0</th>\n",
       "      <td>c</td>\n",
       "      <td>1</td>\n",
       "      <td>1</td>\n",
       "    </tr>\n",
       "    <tr>\n",
       "      <th>1</th>\n",
       "      <td>c</td>\n",
       "      <td>2</td>\n",
       "      <td>2</td>\n",
       "    </tr>\n",
       "    <tr>\n",
       "      <th>2</th>\n",
       "      <td>cc</td>\n",
       "      <td>4</td>\n",
       "      <td>5</td>\n",
       "    </tr>\n",
       "  </tbody>\n",
       "</table>\n",
       "</div>"
      ],
      "text/plain": [
       "   aa  a  b\n",
       "0   c  1  1\n",
       "1   c  2  2\n",
       "2  cc  4  5"
      ]
     },
     "execution_count": 200,
     "metadata": {},
     "output_type": "execute_result"
    }
   ],
   "source": [
    "df_"
   ]
  },
  {
   "cell_type": "code",
   "execution_count": 202,
   "metadata": {
    "collapsed": false
   },
   "outputs": [],
   "source": [
    "df_ = df_.groupby('aa')['a'].sum().reset_index()"
   ]
  },
  {
   "cell_type": "code",
   "execution_count": 203,
   "metadata": {
    "collapsed": false
   },
   "outputs": [
    {
     "data": {
      "text/html": [
       "<div>\n",
       "<table border=\"1\" class=\"dataframe\">\n",
       "  <thead>\n",
       "    <tr style=\"text-align: right;\">\n",
       "      <th></th>\n",
       "      <th>aa</th>\n",
       "      <th>a</th>\n",
       "    </tr>\n",
       "  </thead>\n",
       "  <tbody>\n",
       "    <tr>\n",
       "      <th>0</th>\n",
       "      <td>c</td>\n",
       "      <td>3</td>\n",
       "    </tr>\n",
       "    <tr>\n",
       "      <th>1</th>\n",
       "      <td>cc</td>\n",
       "      <td>4</td>\n",
       "    </tr>\n",
       "  </tbody>\n",
       "</table>\n",
       "</div>"
      ],
      "text/plain": [
       "   aa  a\n",
       "0   c  3\n",
       "1  cc  4"
      ]
     },
     "execution_count": 203,
     "metadata": {},
     "output_type": "execute_result"
    }
   ],
   "source": [
    "df_"
   ]
  },
  {
   "cell_type": "code",
   "execution_count": null,
   "metadata": {
    "collapsed": true
   },
   "outputs": [],
   "source": []
  }
 ],
 "metadata": {
  "kernelspec": {
   "display_name": "Python 3",
   "language": "python",
   "name": "python3"
  },
  "language_info": {
   "codemirror_mode": {
    "name": "ipython",
    "version": 3
   },
   "file_extension": ".py",
   "mimetype": "text/x-python",
   "name": "python",
   "nbconvert_exporter": "python",
   "pygments_lexer": "ipython3",
   "version": "3.6.0"
  }
 },
 "nbformat": 4,
 "nbformat_minor": 2
}
